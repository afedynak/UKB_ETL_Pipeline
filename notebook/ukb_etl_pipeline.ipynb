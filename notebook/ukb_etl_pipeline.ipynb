{
 "cells": [
  {
   "cell_type": "code",
   "execution_count": null,
   "metadata": {},
   "outputs": [],
   "source": [
    "pip install -r requirements.txt"
   ]
  },
  {
   "cell_type": "code",
   "execution_count": null,
   "metadata": {},
   "outputs": [],
   "source": [
    "from pyspark.sql import SparkSession\n",
    "from pyspark.sql.functions import *\n",
    "from delta import *\n",
    "\n",
    "\n",
    "import os\n",
    "import yaml\n",
    "import pyspark.pandas as ps\n",
    "import logging"
   ]
  },
  {
   "cell_type": "code",
   "execution_count": null,
   "metadata": {},
   "outputs": [],
   "source": [
    "# Configure logging\n",
    "logging.basicConfig(level=logging.INFO)\n",
    "logger = logging.getLogger(__name__)"
   ]
  },
  {
   "cell_type": "code",
   "execution_count": null,
   "metadata": {},
   "outputs": [],
   "source": [
    "# Set Spark environment\n",
    "os.environ['SPARK_HOME'] = \"/external/rprshnas01/netdata_kcni/dflab/tools/general/distributed-computing/spark/3.5.0/\""
   ]
  },
  {
   "cell_type": "code",
   "execution_count": null,
   "metadata": {},
   "outputs": [],
   "source": [
    "# Load parameters\n",
    "with open('params.yaml','r') as f:\n",
    "    params = yaml.safe_load(f)\n",
    "\n",
    "\n",
    "path_ukb_delta = params[\"ukbiobank\"][\"main\"][\"delta\"] \n",
    "field_list = params['ukbiobank']['main']['fields']\n",
    "instance_list = params['ukbiobank']['main']['instances']\n",
    "path_dictionary = params['ukbiobank']['main']['dictionary']\n",
    "path_output = params['ukbiobank']['main']['output']\n",
    "path_exclude_ids = params['ukbiobank']['main'].get('exclude_ids', None)"
   ]
  },
  {
   "cell_type": "code",
   "execution_count": null,
   "metadata": {},
   "outputs": [],
   "source": [
    "# Start Spark session\n",
    "logger.info(\"Starting Spark session...\")\n",
    "builder = (\n",
    "    SparkSession.builder.appName('Subsetting UK Biobank Data')\n",
    "        .master(\"local[*]\")\n",
    "        .config(\"spark.sql.extensions\", \"io.delta.sql.DeltaSparkSessionExtension\")\n",
    "        .config(\"spark.sql.catalog.spark_catalog\", \"org.apache.spark.sql.delta.catalog.DeltaCatalog\")\n",
    ")\n",
    "spark = configure_spark_with_delta_pip(builder).getOrCreate()\n",
    "logger.info(\"Spark session started.\")"
   ]
  },
  {
   "cell_type": "code",
   "execution_count": null,
   "metadata": {},
   "outputs": [],
   "source": [
    "# Subset by fields and instances\n",
    "logger.info(\"Subsetting dataset by fields and instances...\")\n",
    "df_subset = df_ukb.select(['eid', 'instance'] + field_list)\n",
    "df_subset = df_subset.filter(col('instance').isin(instance_list))\n",
    "logger.info(\"Subset created.\")"
   ]
  },
  {
   "cell_type": "code",
   "execution_count": null,
   "metadata": {},
   "outputs": [],
   "source": [
    "# Load main dataset\n",
    "logger.info(\"Loading UK Biobank main dataset...\")\n",
    "df_ukb = spark.read.format(\"delta\").load(path_ukb_delta)\n",
    "logger.info(\"UK Biobank main dataset loaded.\")"
   ]
  },
  {
   "cell_type": "code",
   "execution_count": null,
   "metadata": {},
   "outputs": [],
   "source": [
    "# Subset by fields and instances\n",
    "logger.info(\"Subset UK Biobank main dataset based on field and instance lists...\")\n",
    "df_subset = df_ukb[['eid', 'instance'] + field_list]\n",
    "df_subset = df_subset[df_subset['instance'].isin(instance_list)]\n",
    "logger.info(\"UK Biobank main dataset subsetted based on field and instance lists.\")"
   ]
  },
  {
   "cell_type": "code",
   "execution_count": null,
   "metadata": {},
   "outputs": [],
   "source": [
    "# Remove excluded IDs\n",
    "if path_exclude_ids:\n",
    "    logger.info(f\"Loading exclusion list from {path_exclude_ids}...\")\n",
    "    exclude_ids = spark.read.text(path_exclude_ids).withColumnRenamed(\"value\", \"eid\").distinct()\n",
    "    exclude_ids = exclude_ids.withColumn(\"eid\", exclude_ids[\"eid\"].cast(\"long\"))\n",
    "    logger.info(\"Filtering out excluded IDs...\")\n",
    "    df_subset = df_subset.join(exclude_ids, on=\"eid\", how=\"left_anti\")\n",
    "    logger.info(\"Excluded IDs removed from dataset.\")\n"
   ]
  },
  {
   "cell_type": "code",
   "execution_count": null,
   "metadata": {},
   "outputs": [],
   "source": [
    "# Load dictionary\n",
    "logger.info(\"Loading dictionary...\")\n",
    "df_dictionary = spark.read.csv(\n",
    "    path_dictionary,\n",
    "    sep='\\t',\n",
    "    header=True\n",
    ")\n",
    "logger.info(\"Dictionary loaded.\")"
   ]
  },
  {
   "cell_type": "code",
   "execution_count": null,
   "metadata": {},
   "outputs": [],
   "source": [
    "# Create column name mapping\n",
    "logger.info(\"Creating column name mapping dictionary...\")\n",
    "df_dictionary = df_dictionary.withColumn(\n",
    "    \"NewColumn\",\n",
    "    concat(df_dictionary['Field'], lit(' (FieldID: '), df_dictionary['FieldID'], lit(')'))\n",
    ")\n",
    "df_field_name_map = df_dictionary.select('FieldID', 'Field', 'NewColumn')\n",
    "df_field_name_map = df_field_name_map.filter(col('FieldID').isin(field_list))\n",
    "mapping = df_field_name_map.pandas_api().set_index('FieldID')['NewColumn'].to_dict()\n"
   ]
  },
  {
   "cell_type": "code",
   "execution_count": null,
   "metadata": {},
   "outputs": [],
   "source": [
    "# Rename columns\n",
    "logger.info(\"Renaming columns...\")\n",
    "df_subset = df_subset.pandas_api().rename(columns=mapping).to_spark()\n"
   ]
  },
  {
   "cell_type": "code",
   "execution_count": null,
   "metadata": {},
   "outputs": [],
   "source": [
    "# Convert to Pandas and export to CSV\n",
    "logger.info(\"Converting to Pandas DataFrame...\")\n",
    "df_subset = df_subset.toPandas()\n",
    "logger.info(f\"Saving output to {path_output}...\")\n",
    "df_subset.to_csv(path_output, index=False)\n",
    "logger.info(\"Process completed successfully.\")"
   ]
  }
 ],
 "metadata": {
  "kernelspec": {
   "display_name": "Python 3.8",
   "language": "python",
   "name": "python38"
  },
  "language_info": {
   "codemirror_mode": {
    "name": "ipython",
    "version": 3
   },
   "file_extension": ".py",
   "mimetype": "text/x-python",
   "name": "python",
   "nbconvert_exporter": "python",
   "pygments_lexer": "ipython3",
   "version": "3.8.5"
  }
 },
 "nbformat": 4,
 "nbformat_minor": 4
}
